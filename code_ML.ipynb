{
  "nbformat": 4,
  "nbformat_minor": 0,
  "metadata": {
    "colab": {
      "name": "code_MLK.ipynb",
      "provenance": [],
      "toc_visible": true,
      "collapsed_sections": [
        "_aLPNA-QCblI",
        "ib7vaS5uDjJn",
        "FS_1AhbBDpOz",
        "1VK68ZcWDzVb",
        "yPIo_iGZNws8",
        "xyrpgq8jH4Aw",
        "VAJu_-NdH90-",
        "nicZeSgRIBe2",
        "R4kgVqvuGMEx",
        "4oCMDd_nIr3W",
        "lNKTqqJ9I1Zk",
        "Ko-AOAU7I5T7"
      ]
    },
    "kernelspec": {
      "name": "python3",
      "display_name": "Python 3"
    },
    "language_info": {
      "name": "python"
    }
  },
  "cells": [
    {
      "cell_type": "markdown",
      "source": [
        "# **Import libraries**\n",
        "\n",
        "Importing the basic necessary libraries."
      ],
      "metadata": {
        "id": "EAfp6uFExGs8"
      }
    },
    {
      "cell_type": "code",
      "execution_count": 1,
      "metadata": {
        "id": "kj56Xu6CvC_W"
      },
      "outputs": [],
      "source": [
        "import pandas as pd\n",
        "import numpy as np\n",
        "import csv\n",
        "import json"
      ]
    },
    {
      "cell_type": "code",
      "source": [
        "from google.colab import drive \n",
        "drive.mount('/content/gdrive')"
      ],
      "metadata": {
        "id": "XMt2jHpBxf_G",
        "colab": {
          "base_uri": "https://localhost:8080/"
        },
        "outputId": "de4b307f-0f5d-4d9d-d95d-4fb786d5ab0b"
      },
      "execution_count": 2,
      "outputs": [
        {
          "output_type": "stream",
          "name": "stdout",
          "text": [
            "Drive already mounted at /content/gdrive; to attempt to forcibly remount, call drive.mount(\"/content/gdrive\", force_remount=True).\n"
          ]
        }
      ]
    },
    {
      "cell_type": "markdown",
      "source": [
        "# **Import dataset**\n",
        "\n",
        "Loading the dataset into pandas dataframe."
      ],
      "metadata": {
        "id": "SpGxvtN1x1NN"
      }
    },
    {
      "cell_type": "code",
      "source": [
        "dataset = pd.read_csv(\"/content/gdrive/MyDrive/Colab Notebooks/Final Coding/processed_reviews_split_surnamesS_minimal.csv\")\n",
        "df = pd.DataFrame(data = dataset)"
      ],
      "metadata": {
        "id": "ubtZ4ljpxpH2"
      },
      "execution_count": 3,
      "outputs": []
    },
    {
      "cell_type": "markdown",
      "source": [
        "# **Preparing exclusion dataset**"
      ],
      "metadata": {
        "id": "T7M7qGkpU9UR"
      }
    },
    {
      "cell_type": "code",
      "source": [
        "excluded_df = pd.DataFrame(data = dataset)\n",
        "\n",
        "# initialising new columns in exclusion dataset\n",
        "excluded_df['data_id']=excluded_df.review_id\n",
        "excluded_df['excluded'] = '0'\n",
        "excluded_df['reason_for_exclusion'] = 'N/A'\n",
        "\n",
        "# preparing false verified data exclusion\n",
        "for index in excluded_df.loc[excluded_df.verified == False].index:\n",
        "  excluded_df.at[index,'data_id']=excluded_df.loc[index].review_id\n",
        "  excluded_df.at[index,'excluded'] = '1'\n",
        "  excluded_df.at[index,'reason_for_exclusion'] = 'Other'\n",
        "\n",
        "# preparing -1 review score data exclusion\n",
        "for index in excluded_df.loc[excluded_df.review_score == -1].index:\n",
        "  excluded_df.at[index,'data_id']=excluded_df.loc[index].review_id\n",
        "  excluded_df.at[index,'excluded'] = '1'\n",
        "  excluded_df.at[index,'reason_for_exclusion'] = 'invalid'\n",
        "\n",
        "# preparing nan type data exclusion\n",
        "for index in df[~df.index.isin(df.dropna().index)].index:\n",
        "  excluded_df.at[index,'data_id']=excluded_df.loc[index].review_id\n",
        "  excluded_df.at[index,'excluded'] = '1'\n",
        "  excluded_df.at[index,'reason_for_exclusion'] = 'missing_value_or_label'\n",
        "\n",
        "exclusion_dataset = excluded_df[['data_id', 'excluded', 'reason_for_exclusion']]\n",
        "exclusion_dataset.to_csv(\"/content/gdrive/MyDrive/Colab Notebooks/Final Coding/exclusions_dataset_task4.csv\", index = False)"
      ],
      "metadata": {
        "id": "Z8gO3jaFU8tP"
      },
      "execution_count": 4,
      "outputs": []
    },
    {
      "cell_type": "markdown",
      "source": [
        "# **Exploratory data analysis**\n",
        "\n",
        "Understanding the components of data in the dataset like data types, data values, etc."
      ],
      "metadata": {
        "id": "4taS4V_dyVEF"
      }
    },
    {
      "cell_type": "code",
      "source": [
        "df.sample(15) # view random 15 data samples in dataframe"
      ],
      "metadata": {
        "colab": {
          "base_uri": "https://localhost:8080/",
          "height": 1000
        },
        "id": "Zw_-5W8Bybw0",
        "outputId": "3ebfff5d-95a2-4bff-e735-f9f6a40c0f9b"
      },
      "execution_count": 5,
      "outputs": [
        {
          "output_type": "execute_result",
          "data": {
            "text/plain": [
              "                   review_id  \\\n",
              "32585  product_review_032585   \n",
              "17704  product_review_017704   \n",
              "4117   product_review_004117   \n",
              "25833  product_review_025833   \n",
              "28273  product_review_028273   \n",
              "26829  product_review_026829   \n",
              "32580  product_review_032580   \n",
              "13594  product_review_013594   \n",
              "9007   product_review_009007   \n",
              "8811   product_review_008811   \n",
              "31472  product_review_031472   \n",
              "16600  product_review_016600   \n",
              "24689  product_review_024689   \n",
              "10528  product_review_010528   \n",
              "30369  product_review_030369   \n",
              "\n",
              "                                                    text verified  \\\n",
              "32585  Great value. Could use some improvements, but ...     True   \n",
              "17704  DW makes great hardware (see my other reviews ...     True   \n",
              "4117   The PSP reminds me of the iTunes software - ja...    False   \n",
              "25833  Surprisingly good game!  Great graphics, chall...     True   \n",
              "28273  If only they included a sync-start. Could trig...    False   \n",
              "26829  <div id=\"video-block-R2C1IBMVC8M01U\" class=\"a-...     True   \n",
              "32580  This is a game. What can I say?  I don't play ...     True   \n",
              "13594  This is an excellent game, but not one that yo...     True   \n",
              "9007   Really didn't know what to expect with this ga...    False   \n",
              "8811                            Can't stop playing it..     False   \n",
              "31472  I remember when Microsoft used to provide a co...     True   \n",
              "16600  Works perfectly for ORTF, strong, sturdy and r...     True   \n",
              "24689  My 5 year old son loves Mario Kart and I wante...     True   \n",
              "10528  Great price, nice quality and great selection!...     True   \n",
              "30369  great set; can't go wrong for any Infinity sta...     True   \n",
              "\n",
              "       review_score     product_category                data_id excluded  \\\n",
              "32585           4.0  musical_instruments  product_review_032585        0   \n",
              "17704           4.0  musical_instruments  product_review_017704        0   \n",
              "4117            2.0          video_games  product_review_004117        0   \n",
              "25833           5.0          video_games  product_review_025833        0   \n",
              "28273           4.0  musical_instruments  product_review_028273        0   \n",
              "26829           5.0  musical_instruments  product_review_026829        0   \n",
              "32580           4.0          video_games  product_review_032580        0   \n",
              "13594           4.0          video_games  product_review_013594        0   \n",
              "9007            5.0          video_games  product_review_009007        0   \n",
              "8811            5.0          video_games  product_review_008811        0   \n",
              "31472           4.0          video_games  product_review_031472        0   \n",
              "16600           5.0  musical_instruments  product_review_016600        0   \n",
              "24689           5.0          video_games  product_review_024689        0   \n",
              "10528           5.0  musical_instruments  product_review_010528        0   \n",
              "30369           5.0          video_games  product_review_030369        0   \n",
              "\n",
              "      reason_for_exclusion  \n",
              "32585                  N/A  \n",
              "17704                  N/A  \n",
              "4117                   N/A  \n",
              "25833                  N/A  \n",
              "28273                  N/A  \n",
              "26829                  N/A  \n",
              "32580                  N/A  \n",
              "13594                  N/A  \n",
              "9007                   N/A  \n",
              "8811                   N/A  \n",
              "31472                  N/A  \n",
              "16600                  N/A  \n",
              "24689                  N/A  \n",
              "10528                  N/A  \n",
              "30369                  N/A  "
            ],
            "text/html": [
              "\n",
              "  <div id=\"df-5716dc58-ac83-4c30-b156-f794e736dcee\">\n",
              "    <div class=\"colab-df-container\">\n",
              "      <div>\n",
              "<style scoped>\n",
              "    .dataframe tbody tr th:only-of-type {\n",
              "        vertical-align: middle;\n",
              "    }\n",
              "\n",
              "    .dataframe tbody tr th {\n",
              "        vertical-align: top;\n",
              "    }\n",
              "\n",
              "    .dataframe thead th {\n",
              "        text-align: right;\n",
              "    }\n",
              "</style>\n",
              "<table border=\"1\" class=\"dataframe\">\n",
              "  <thead>\n",
              "    <tr style=\"text-align: right;\">\n",
              "      <th></th>\n",
              "      <th>review_id</th>\n",
              "      <th>text</th>\n",
              "      <th>verified</th>\n",
              "      <th>review_score</th>\n",
              "      <th>product_category</th>\n",
              "      <th>data_id</th>\n",
              "      <th>excluded</th>\n",
              "      <th>reason_for_exclusion</th>\n",
              "    </tr>\n",
              "  </thead>\n",
              "  <tbody>\n",
              "    <tr>\n",
              "      <th>32585</th>\n",
              "      <td>product_review_032585</td>\n",
              "      <td>Great value. Could use some improvements, but ...</td>\n",
              "      <td>True</td>\n",
              "      <td>4.0</td>\n",
              "      <td>musical_instruments</td>\n",
              "      <td>product_review_032585</td>\n",
              "      <td>0</td>\n",
              "      <td>N/A</td>\n",
              "    </tr>\n",
              "    <tr>\n",
              "      <th>17704</th>\n",
              "      <td>product_review_017704</td>\n",
              "      <td>DW makes great hardware (see my other reviews ...</td>\n",
              "      <td>True</td>\n",
              "      <td>4.0</td>\n",
              "      <td>musical_instruments</td>\n",
              "      <td>product_review_017704</td>\n",
              "      <td>0</td>\n",
              "      <td>N/A</td>\n",
              "    </tr>\n",
              "    <tr>\n",
              "      <th>4117</th>\n",
              "      <td>product_review_004117</td>\n",
              "      <td>The PSP reminds me of the iTunes software - ja...</td>\n",
              "      <td>False</td>\n",
              "      <td>2.0</td>\n",
              "      <td>video_games</td>\n",
              "      <td>product_review_004117</td>\n",
              "      <td>0</td>\n",
              "      <td>N/A</td>\n",
              "    </tr>\n",
              "    <tr>\n",
              "      <th>25833</th>\n",
              "      <td>product_review_025833</td>\n",
              "      <td>Surprisingly good game!  Great graphics, chall...</td>\n",
              "      <td>True</td>\n",
              "      <td>5.0</td>\n",
              "      <td>video_games</td>\n",
              "      <td>product_review_025833</td>\n",
              "      <td>0</td>\n",
              "      <td>N/A</td>\n",
              "    </tr>\n",
              "    <tr>\n",
              "      <th>28273</th>\n",
              "      <td>product_review_028273</td>\n",
              "      <td>If only they included a sync-start. Could trig...</td>\n",
              "      <td>False</td>\n",
              "      <td>4.0</td>\n",
              "      <td>musical_instruments</td>\n",
              "      <td>product_review_028273</td>\n",
              "      <td>0</td>\n",
              "      <td>N/A</td>\n",
              "    </tr>\n",
              "    <tr>\n",
              "      <th>26829</th>\n",
              "      <td>product_review_026829</td>\n",
              "      <td>&lt;div id=\"video-block-R2C1IBMVC8M01U\" class=\"a-...</td>\n",
              "      <td>True</td>\n",
              "      <td>5.0</td>\n",
              "      <td>musical_instruments</td>\n",
              "      <td>product_review_026829</td>\n",
              "      <td>0</td>\n",
              "      <td>N/A</td>\n",
              "    </tr>\n",
              "    <tr>\n",
              "      <th>32580</th>\n",
              "      <td>product_review_032580</td>\n",
              "      <td>This is a game. What can I say?  I don't play ...</td>\n",
              "      <td>True</td>\n",
              "      <td>4.0</td>\n",
              "      <td>video_games</td>\n",
              "      <td>product_review_032580</td>\n",
              "      <td>0</td>\n",
              "      <td>N/A</td>\n",
              "    </tr>\n",
              "    <tr>\n",
              "      <th>13594</th>\n",
              "      <td>product_review_013594</td>\n",
              "      <td>This is an excellent game, but not one that yo...</td>\n",
              "      <td>True</td>\n",
              "      <td>4.0</td>\n",
              "      <td>video_games</td>\n",
              "      <td>product_review_013594</td>\n",
              "      <td>0</td>\n",
              "      <td>N/A</td>\n",
              "    </tr>\n",
              "    <tr>\n",
              "      <th>9007</th>\n",
              "      <td>product_review_009007</td>\n",
              "      <td>Really didn't know what to expect with this ga...</td>\n",
              "      <td>False</td>\n",
              "      <td>5.0</td>\n",
              "      <td>video_games</td>\n",
              "      <td>product_review_009007</td>\n",
              "      <td>0</td>\n",
              "      <td>N/A</td>\n",
              "    </tr>\n",
              "    <tr>\n",
              "      <th>8811</th>\n",
              "      <td>product_review_008811</td>\n",
              "      <td>Can't stop playing it..</td>\n",
              "      <td>False</td>\n",
              "      <td>5.0</td>\n",
              "      <td>video_games</td>\n",
              "      <td>product_review_008811</td>\n",
              "      <td>0</td>\n",
              "      <td>N/A</td>\n",
              "    </tr>\n",
              "    <tr>\n",
              "      <th>31472</th>\n",
              "      <td>product_review_031472</td>\n",
              "      <td>I remember when Microsoft used to provide a co...</td>\n",
              "      <td>True</td>\n",
              "      <td>4.0</td>\n",
              "      <td>video_games</td>\n",
              "      <td>product_review_031472</td>\n",
              "      <td>0</td>\n",
              "      <td>N/A</td>\n",
              "    </tr>\n",
              "    <tr>\n",
              "      <th>16600</th>\n",
              "      <td>product_review_016600</td>\n",
              "      <td>Works perfectly for ORTF, strong, sturdy and r...</td>\n",
              "      <td>True</td>\n",
              "      <td>5.0</td>\n",
              "      <td>musical_instruments</td>\n",
              "      <td>product_review_016600</td>\n",
              "      <td>0</td>\n",
              "      <td>N/A</td>\n",
              "    </tr>\n",
              "    <tr>\n",
              "      <th>24689</th>\n",
              "      <td>product_review_024689</td>\n",
              "      <td>My 5 year old son loves Mario Kart and I wante...</td>\n",
              "      <td>True</td>\n",
              "      <td>5.0</td>\n",
              "      <td>video_games</td>\n",
              "      <td>product_review_024689</td>\n",
              "      <td>0</td>\n",
              "      <td>N/A</td>\n",
              "    </tr>\n",
              "    <tr>\n",
              "      <th>10528</th>\n",
              "      <td>product_review_010528</td>\n",
              "      <td>Great price, nice quality and great selection!...</td>\n",
              "      <td>True</td>\n",
              "      <td>5.0</td>\n",
              "      <td>musical_instruments</td>\n",
              "      <td>product_review_010528</td>\n",
              "      <td>0</td>\n",
              "      <td>N/A</td>\n",
              "    </tr>\n",
              "    <tr>\n",
              "      <th>30369</th>\n",
              "      <td>product_review_030369</td>\n",
              "      <td>great set; can't go wrong for any Infinity sta...</td>\n",
              "      <td>True</td>\n",
              "      <td>5.0</td>\n",
              "      <td>video_games</td>\n",
              "      <td>product_review_030369</td>\n",
              "      <td>0</td>\n",
              "      <td>N/A</td>\n",
              "    </tr>\n",
              "  </tbody>\n",
              "</table>\n",
              "</div>\n",
              "      <button class=\"colab-df-convert\" onclick=\"convertToInteractive('df-5716dc58-ac83-4c30-b156-f794e736dcee')\"\n",
              "              title=\"Convert this dataframe to an interactive table.\"\n",
              "              style=\"display:none;\">\n",
              "        \n",
              "  <svg xmlns=\"http://www.w3.org/2000/svg\" height=\"24px\"viewBox=\"0 0 24 24\"\n",
              "       width=\"24px\">\n",
              "    <path d=\"M0 0h24v24H0V0z\" fill=\"none\"/>\n",
              "    <path d=\"M18.56 5.44l.94 2.06.94-2.06 2.06-.94-2.06-.94-.94-2.06-.94 2.06-2.06.94zm-11 1L8.5 8.5l.94-2.06 2.06-.94-2.06-.94L8.5 2.5l-.94 2.06-2.06.94zm10 10l.94 2.06.94-2.06 2.06-.94-2.06-.94-.94-2.06-.94 2.06-2.06.94z\"/><path d=\"M17.41 7.96l-1.37-1.37c-.4-.4-.92-.59-1.43-.59-.52 0-1.04.2-1.43.59L10.3 9.45l-7.72 7.72c-.78.78-.78 2.05 0 2.83L4 21.41c.39.39.9.59 1.41.59.51 0 1.02-.2 1.41-.59l7.78-7.78 2.81-2.81c.8-.78.8-2.07 0-2.86zM5.41 20L4 18.59l7.72-7.72 1.47 1.35L5.41 20z\"/>\n",
              "  </svg>\n",
              "      </button>\n",
              "      \n",
              "  <style>\n",
              "    .colab-df-container {\n",
              "      display:flex;\n",
              "      flex-wrap:wrap;\n",
              "      gap: 12px;\n",
              "    }\n",
              "\n",
              "    .colab-df-convert {\n",
              "      background-color: #E8F0FE;\n",
              "      border: none;\n",
              "      border-radius: 50%;\n",
              "      cursor: pointer;\n",
              "      display: none;\n",
              "      fill: #1967D2;\n",
              "      height: 32px;\n",
              "      padding: 0 0 0 0;\n",
              "      width: 32px;\n",
              "    }\n",
              "\n",
              "    .colab-df-convert:hover {\n",
              "      background-color: #E2EBFA;\n",
              "      box-shadow: 0px 1px 2px rgba(60, 64, 67, 0.3), 0px 1px 3px 1px rgba(60, 64, 67, 0.15);\n",
              "      fill: #174EA6;\n",
              "    }\n",
              "\n",
              "    [theme=dark] .colab-df-convert {\n",
              "      background-color: #3B4455;\n",
              "      fill: #D2E3FC;\n",
              "    }\n",
              "\n",
              "    [theme=dark] .colab-df-convert:hover {\n",
              "      background-color: #434B5C;\n",
              "      box-shadow: 0px 1px 3px 1px rgba(0, 0, 0, 0.15);\n",
              "      filter: drop-shadow(0px 1px 2px rgba(0, 0, 0, 0.3));\n",
              "      fill: #FFFFFF;\n",
              "    }\n",
              "  </style>\n",
              "\n",
              "      <script>\n",
              "        const buttonEl =\n",
              "          document.querySelector('#df-5716dc58-ac83-4c30-b156-f794e736dcee button.colab-df-convert');\n",
              "        buttonEl.style.display =\n",
              "          google.colab.kernel.accessAllowed ? 'block' : 'none';\n",
              "\n",
              "        async function convertToInteractive(key) {\n",
              "          const element = document.querySelector('#df-5716dc58-ac83-4c30-b156-f794e736dcee');\n",
              "          const dataTable =\n",
              "            await google.colab.kernel.invokeFunction('convertToInteractive',\n",
              "                                                     [key], {});\n",
              "          if (!dataTable) return;\n",
              "\n",
              "          const docLinkHtml = 'Like what you see? Visit the ' +\n",
              "            '<a target=\"_blank\" href=https://colab.research.google.com/notebooks/data_table.ipynb>data table notebook</a>'\n",
              "            + ' to learn more about interactive tables.';\n",
              "          element.innerHTML = '';\n",
              "          dataTable['output_type'] = 'display_data';\n",
              "          await google.colab.output.renderOutput(dataTable, element);\n",
              "          const docLink = document.createElement('div');\n",
              "          docLink.innerHTML = docLinkHtml;\n",
              "          element.appendChild(docLink);\n",
              "        }\n",
              "      </script>\n",
              "    </div>\n",
              "  </div>\n",
              "  "
            ]
          },
          "metadata": {},
          "execution_count": 5
        }
      ]
    },
    {
      "cell_type": "code",
      "source": [
        "# view total number of rows and column in dataset\n",
        "print(\"The rows x column present in dataset is: \", df.shape)"
      ],
      "metadata": {
        "colab": {
          "base_uri": "https://localhost:8080/"
        },
        "id": "8T9JVLMwygXb",
        "outputId": "ed944e0b-5ae9-49ee-c72e-11b44864d3ef"
      },
      "execution_count": 6,
      "outputs": [
        {
          "output_type": "stream",
          "name": "stdout",
          "text": [
            "The rows x column present in dataset is:  (32917, 8)\n"
          ]
        }
      ]
    },
    {
      "cell_type": "code",
      "source": [
        "# view the categorical data and their count in the dataset\n",
        "from IPython.display import HTML\n",
        "def pretty_print_df(value_counts_):\n",
        "  \"Quick function to display value counts more nicely\"\n",
        "  display(HTML(pd.DataFrame(value_counts_).to_html()))\n",
        "\n",
        "# all categorical features\n",
        "categorical_columns= ['verified', 'review_score', 'product_category']\n",
        "\n",
        "# get the categories and their count for each feature\n",
        "for col in categorical_columns:\n",
        "  print(f\"Categories and number of occurrences for '{col}'\")\n",
        "  pretty_print_df(df[col].value_counts())\n",
        "  print()"
      ],
      "metadata": {
        "colab": {
          "base_uri": "https://localhost:8080/",
          "height": 534
        },
        "id": "4DLLqUVyzuX-",
        "outputId": "5fdaec69-8dbb-4ea8-b810-915e6dbafaa7"
      },
      "execution_count": 7,
      "outputs": [
        {
          "output_type": "stream",
          "name": "stdout",
          "text": [
            "Categories and number of occurrences for 'verified'\n"
          ]
        },
        {
          "output_type": "display_data",
          "data": {
            "text/plain": [
              "<IPython.core.display.HTML object>"
            ],
            "text/html": [
              "<table border=\"1\" class=\"dataframe\">\n",
              "  <thead>\n",
              "    <tr style=\"text-align: right;\">\n",
              "      <th></th>\n",
              "      <th>verified</th>\n",
              "    </tr>\n",
              "  </thead>\n",
              "  <tbody>\n",
              "    <tr>\n",
              "      <th>True</th>\n",
              "      <td>23511</td>\n",
              "    </tr>\n",
              "    <tr>\n",
              "      <th>False</th>\n",
              "      <td>9292</td>\n",
              "    </tr>\n",
              "  </tbody>\n",
              "</table>"
            ]
          },
          "metadata": {}
        },
        {
          "output_type": "stream",
          "name": "stdout",
          "text": [
            "\n",
            "Categories and number of occurrences for 'review_score'\n"
          ]
        },
        {
          "output_type": "display_data",
          "data": {
            "text/plain": [
              "<IPython.core.display.HTML object>"
            ],
            "text/html": [
              "<table border=\"1\" class=\"dataframe\">\n",
              "  <thead>\n",
              "    <tr style=\"text-align: right;\">\n",
              "      <th></th>\n",
              "      <th>review_score</th>\n",
              "    </tr>\n",
              "  </thead>\n",
              "  <tbody>\n",
              "    <tr>\n",
              "      <th>5.0</th>\n",
              "      <td>19270</td>\n",
              "    </tr>\n",
              "    <tr>\n",
              "      <th>4.0</th>\n",
              "      <td>6203</td>\n",
              "    </tr>\n",
              "    <tr>\n",
              "      <th>3.0</th>\n",
              "      <td>3116</td>\n",
              "    </tr>\n",
              "    <tr>\n",
              "      <th>1.0</th>\n",
              "      <td>1875</td>\n",
              "    </tr>\n",
              "    <tr>\n",
              "      <th>2.0</th>\n",
              "      <td>1546</td>\n",
              "    </tr>\n",
              "    <tr>\n",
              "      <th>-1.0</th>\n",
              "      <td>907</td>\n",
              "    </tr>\n",
              "  </tbody>\n",
              "</table>"
            ]
          },
          "metadata": {}
        },
        {
          "output_type": "stream",
          "name": "stdout",
          "text": [
            "\n",
            "Categories and number of occurrences for 'product_category'\n"
          ]
        },
        {
          "output_type": "display_data",
          "data": {
            "text/plain": [
              "<IPython.core.display.HTML object>"
            ],
            "text/html": [
              "<table border=\"1\" class=\"dataframe\">\n",
              "  <thead>\n",
              "    <tr style=\"text-align: right;\">\n",
              "      <th></th>\n",
              "      <th>product_category</th>\n",
              "    </tr>\n",
              "  </thead>\n",
              "  <tbody>\n",
              "    <tr>\n",
              "      <th>video_games</th>\n",
              "      <td>21852</td>\n",
              "    </tr>\n",
              "    <tr>\n",
              "      <th>musical_instruments</th>\n",
              "      <td>10159</td>\n",
              "    </tr>\n",
              "  </tbody>\n",
              "</table>"
            ]
          },
          "metadata": {}
        },
        {
          "output_type": "stream",
          "name": "stdout",
          "text": [
            "\n"
          ]
        }
      ]
    },
    {
      "cell_type": "code",
      "source": [
        "# number of missing values per column\n",
        "df.isna().sum()"
      ],
      "metadata": {
        "colab": {
          "base_uri": "https://localhost:8080/"
        },
        "id": "NVr7UNUTruim",
        "outputId": "8f4895d1-b669-4a99-c351-ee56abb85352"
      },
      "execution_count": 8,
      "outputs": [
        {
          "output_type": "execute_result",
          "data": {
            "text/plain": [
              "review_id                 0\n",
              "text                     13\n",
              "verified                114\n",
              "review_score              0\n",
              "product_category        906\n",
              "data_id                   0\n",
              "excluded                  0\n",
              "reason_for_exclusion      0\n",
              "dtype: int64"
            ]
          },
          "metadata": {},
          "execution_count": 8
        }
      ]
    },
    {
      "cell_type": "markdown",
      "source": [
        "# **Data cleaning**\n",
        "\n",
        "Cleaning dataset based on the exploratory data analysis report. Following processes are executed for cleaning the dataset:\n",
        "\n",
        "\n",
        "*   Removing the negative review score of -1\n",
        "*   Removing rows with nan type datapoints\n",
        "*   Removing the rows with false verified data\n",
        "*   Dropping the unused columns\n",
        "*   Removing the html tags, urls, symbols, etc. from data\n",
        "\n",
        "\n",
        "> ***Note:** Last section shows the exploratory data analysis for textual data where spacy is used for showing the text length distribution and bag of words with frequency visualisation.\n",
        "\n"
      ],
      "metadata": {
        "id": "5U3OnBrK4Rn-"
      }
    },
    {
      "cell_type": "code",
      "source": [
        "# replace negative review_score with NaN \n",
        "df.loc[df.review_score<0,'review_score'] = np.nan"
      ],
      "metadata": {
        "id": "PMJJx2qm00kQ"
      },
      "execution_count": 9,
      "outputs": []
    },
    {
      "cell_type": "code",
      "source": [
        "# Number of missing values per column\n",
        "df.isna().sum()"
      ],
      "metadata": {
        "colab": {
          "base_uri": "https://localhost:8080/"
        },
        "id": "SarGFsdC4pGu",
        "outputId": "391e158e-cbab-4b82-bd9d-2a2525388b06"
      },
      "execution_count": 10,
      "outputs": [
        {
          "output_type": "execute_result",
          "data": {
            "text/plain": [
              "review_id                 0\n",
              "text                     13\n",
              "verified                114\n",
              "review_score            907\n",
              "product_category        906\n",
              "data_id                   0\n",
              "excluded                  0\n",
              "reason_for_exclusion      0\n",
              "dtype: int64"
            ]
          },
          "metadata": {},
          "execution_count": 10
        }
      ]
    },
    {
      "cell_type": "code",
      "source": [
        "# remove all rows with missing data\n",
        "print(f'Original dataset length: {len(df)}')\n",
        "df_reduced = df.dropna()\n",
        "print(f'Dataset length after removing missing rows: {len(df_reduced)}')\n",
        "print()"
      ],
      "metadata": {
        "colab": {
          "base_uri": "https://localhost:8080/"
        },
        "id": "lWDAKrGt41KG",
        "outputId": "620c8028-0e81-4437-b370-5cd56292ae2e"
      },
      "execution_count": 11,
      "outputs": [
        {
          "output_type": "stream",
          "name": "stdout",
          "text": [
            "Original dataset length: 32917\n",
            "Dataset length after removing missing rows: 30983\n",
            "\n"
          ]
        }
      ]
    },
    {
      "cell_type": "code",
      "source": [
        "# remove rows where verified is false\n",
        "\n",
        "df_reduced = df_reduced.drop(df_reduced[df_reduced.verified == False].index)\n"
      ],
      "metadata": {
        "id": "8mYudQhp5SDW"
      },
      "execution_count": 12,
      "outputs": []
    },
    {
      "cell_type": "code",
      "source": [
        "print(f'Dataset length after removing false verified rows: {len(df_reduced)}')"
      ],
      "metadata": {
        "colab": {
          "base_uri": "https://localhost:8080/"
        },
        "id": "j4ZOMkXf7i75",
        "outputId": "d20699d9-a451-47db-a3f5-678dfaa3caf9"
      },
      "execution_count": 13,
      "outputs": [
        {
          "output_type": "stream",
          "name": "stdout",
          "text": [
            "Dataset length after removing false verified rows: 22206\n"
          ]
        }
      ]
    },
    {
      "cell_type": "code",
      "source": [
        "# remove multiple selected columns\n",
        "\n",
        "df_cleaned = df_reduced.drop([\"review_id\", \"verified\"], axis=1)\n"
      ],
      "metadata": {
        "id": "zQW3zCgz7yGD"
      },
      "execution_count": 14,
      "outputs": []
    },
    {
      "cell_type": "code",
      "source": [
        "# imports for text cleaning\n",
        "import re\n",
        "import nltk\n",
        "import string\n",
        "from nltk.corpus import stopwords"
      ],
      "metadata": {
        "id": "tcTEHbZvBw5S"
      },
      "execution_count": 15,
      "outputs": []
    },
    {
      "cell_type": "code",
      "source": [
        "nltk.download('stopwords')"
      ],
      "metadata": {
        "colab": {
          "base_uri": "https://localhost:8080/"
        },
        "id": "uK-Y33JaBzIr",
        "outputId": "bb95499c-2c29-4224-d05a-cc1c8262a3ee"
      },
      "execution_count": 16,
      "outputs": [
        {
          "output_type": "stream",
          "name": "stdout",
          "text": [
            "[nltk_data] Downloading package stopwords to /root/nltk_data...\n",
            "[nltk_data]   Package stopwords is already up-to-date!\n"
          ]
        },
        {
          "output_type": "execute_result",
          "data": {
            "text/plain": [
              "True"
            ]
          },
          "metadata": {},
          "execution_count": 16
        }
      ]
    },
    {
      "cell_type": "code",
      "source": [
        "# cleaning stop words, html tags, urls, etc. from data\n",
        "from lxml import html\n",
        "from bs4 import BeautifulSoup\n",
        "\n",
        "stop_words = stopwords.words(\"english\")\n",
        "\n",
        "def text_preproc(x):\n",
        "  x = x.lower()\n",
        "  x = ' '.join([word for word in x.split(' ') if word not in stop_words])\n",
        "  x = x.encode('ascii', 'ignore').decode()\n",
        "  # x = str(html.fromstring(x).text_content())\n",
        "  soup = BeautifulSoup(x, 'lxml')\n",
        "  x = soup.get_text()\n",
        "  x = soup.get_text()\n",
        "  x = re.sub(r'https*\\S+', ' ', x)\n",
        "  x = re.sub(r'@\\S+', ' ', x)\n",
        "  x = re.sub(r'#\\S+', ' ', x)\n",
        "  x = re.sub(r'\\'\\w+', '', x)\n",
        "  x = re.sub('[%s]' % re.escape(string.punctuation), ' ', x)\n",
        "  x = re.sub(r'\\w*\\d+\\w*', '', x)\n",
        "  x = re.sub(r'\\s{2,}', ' ', x)\n",
        "  \n",
        "  return x\n",
        "\n",
        "df_cleaned['text'] = df_cleaned.text.apply(text_preproc)"
      ],
      "metadata": {
        "id": "J8gJajo_BwHc"
      },
      "execution_count": 17,
      "outputs": []
    },
    {
      "cell_type": "markdown",
      "source": [
        "# **Preparing spacy corpus to explore dataset**"
      ],
      "metadata": {
        "id": "_aLPNA-QCblI"
      }
    },
    {
      "cell_type": "code",
      "source": [
        "# importing spacy \n",
        "\n",
        "# !pip install --upgrade spacy\n",
        "\n",
        "# spacy needs language models - let's make sure they are downloaded\n",
        "# !python -m spacy download en_core_web_md"
      ],
      "metadata": {
        "id": "JiGIkzXeCSpg"
      },
      "execution_count": 18,
      "outputs": []
    },
    {
      "cell_type": "code",
      "source": [
        "import spacy\n",
        "\n",
        "# Create an NLP pipeline\n",
        "nlp = spacy.load('en_core_web_md') #add mention to other languages\n",
        "cleandf_spacy = list(nlp.pipe(df_cleaned['text']))"
      ],
      "metadata": {
        "id": "PFnB9CoJCXZA"
      },
      "execution_count": 19,
      "outputs": []
    },
    {
      "cell_type": "code",
      "source": [
        "# text length distribution\n",
        "# get the lenght of all processed documents in the training dataset\n",
        "train_doc_lengths= []\n",
        "for doc in cleandf_spacy:\n",
        "  train_doc_lengths.append(len(doc.text)) #doc.text contains the whole text of the original document\n",
        "\n",
        "\n",
        "import matplotlib.pyplot as plt\n",
        "# plot the distribution of lengths in an histogram\n",
        "fig = plt.figure()\n",
        "ax = fig.add_subplot(1, 1, 1)\n",
        "ax.hist(train_doc_lengths)\n",
        "ax.set_xlabel('Document length')\n",
        "_ =ax.set_ylabel('Counts')\n"
      ],
      "metadata": {
        "id": "eiUQDY6FCeXB",
        "colab": {
          "base_uri": "https://localhost:8080/",
          "height": 279
        },
        "outputId": "d609ff23-7e73-4f0a-cc06-5ba183a63fa1"
      },
      "execution_count": 20,
      "outputs": [
        {
          "output_type": "display_data",
          "data": {
            "text/plain": [
              "<Figure size 432x288 with 1 Axes>"
            ],
            "image/png": "[encoded data removed]"
          },
          "metadata": {
            "needs_background": "light"
          }
        }
      ]
    },
    {
      "cell_type": "markdown",
      "source": [
        "**Bag of words - visualising the words and their occurrence**"
      ],
      "metadata": {
        "id": "UPgb9I75g_UH"
      }
    },
    {
      "cell_type": "code",
      "source": [
        "# import CountVectorizer\n",
        "from sklearn.feature_extraction.text import CountVectorizer\n",
        "\n",
        "# create a tokenizer that leaves documents already tokenized as they are:\n",
        "def tokenize_as_is(x):\n",
        "  ''' x is a list of tokens. It's returned as is'''\n",
        "  return x\n",
        "\n",
        "# define a function to get the most frequent ngrams\n",
        "def get_top_ngram(spacy_tokenized_corpus, ngram_range=(1,2), top_n= 50):\n",
        "    ''' By default it return the top 50 unigrams/bigrams'''\n",
        "    vec = CountVectorizer(ngram_range=ngram_range, max_features=top_n, lowercase=False,\n",
        "                          tokenizer=tokenize_as_is).fit(spacy_tokenized_corpus)\n",
        "    # get a vector for each document\n",
        "    bag_of_words = vec.transform(spacy_tokenized_corpus)\n",
        "    # sum across documents\n",
        "    sum_words = bag_of_words.sum(axis=0) \n",
        "    # get the words with their frequencies and order them\n",
        "    words_freq = [(word, sum_words[0, idx]) \n",
        "                  for word, idx in vec.vocabulary_.items()]\n",
        "    words_freq =sorted(words_freq, key = lambda x: x[1], reverse=True)\n",
        "    return bag_of_words, words_freq#[:10]"
      ],
      "metadata": {
        "id": "wPwrys8zDQhZ"
      },
      "execution_count": 21,
      "outputs": []
    },
    {
      "cell_type": "code",
      "source": [
        "df_tokenized = []\n",
        "for i,doc in enumerate(cleandf_spacy):\n",
        "  # let's collect all valid tokens (i.e. no stop words, no punctuation) into a list\n",
        "  df_tokenized.append([token.lemma_ for token in doc if not (token.is_stop or token.is_punct)])\n",
        "\n"
      ],
      "metadata": {
        "id": "fF5jpoF4Lvxm"
      },
      "execution_count": 22,
      "outputs": []
    },
    {
      "cell_type": "code",
      "source": [
        "# let's get the words frequencies\n",
        "bag_of_words, words_freq= get_top_ngram(df_tokenized, ngram_range=(1,2), top_n= 50)\n",
        "\n",
        "# let's plot them\n",
        "import seaborn as sns\n",
        "# separate the n_grams from their frequencies\n",
        "ngram_labels = [word[0] for word in words_freq]\n",
        "ngram_freqs = [word[1] for word in words_freq]\n",
        "plt.figure(figsize=(7,12))\n",
        "sns.barplot(x=ngram_freqs,y=ngram_labels)\n"
      ],
      "metadata": {
        "id": "9fu2i1TaL0Es",
        "colab": {
          "base_uri": "https://localhost:8080/",
          "height": 773
        },
        "outputId": "2b7745ca-b5f3-4c37-db18-4fe0a9c0d2b7"
      },
      "execution_count": 23,
      "outputs": [
        {
          "output_type": "stream",
          "name": "stderr",
          "text": [
            "/usr/local/lib/python3.7/dist-packages/sklearn/feature_extraction/text.py:517: UserWarning: The parameter 'token_pattern' will not be used since 'tokenizer' is not None'\n",
            "  \"The parameter 'token_pattern' will not be used\"\n"
          ]
        },
        {
          "output_type": "execute_result",
          "data": {
            "text/plain": [
              "<matplotlib.axes._subplots.AxesSubplot at 0x7f987aa33990>"
            ]
          },
          "metadata": {},
          "execution_count": 23
        },
        {
          "output_type": "display_data",
          "data": {
            "text/plain": [
              "<Figure size 504x864 with 1 Axes>"
            ],
            "image/png": "[encoded data removed]"
          },
          "metadata": {
            "needs_background": "light"
          }
        }
      ]
    },
    {
      "cell_type": "markdown",
      "source": [
        "# **Preprocessing**\n",
        "\n",
        "Vectorizing the text data with TfidfVectorizer and performing train test slipt twice for classifying review score and product category for two different models."
      ],
      "metadata": {
        "id": "ib7vaS5uDjJn"
      }
    },
    {
      "cell_type": "code",
      "source": [
        "# importing vectorizer and train test split\n",
        "from sklearn.feature_extraction.text import TfidfVectorizer\n",
        "from sklearn.model_selection import train_test_split"
      ],
      "metadata": {
        "id": "dg6Rd3F-VT1p"
      },
      "execution_count": 24,
      "outputs": []
    },
    {
      "cell_type": "code",
      "source": [
        "# initialising TfidVectorizer\n",
        "tfidf = TfidfVectorizer()"
      ],
      "metadata": {
        "id": "6SK_Kv5SVzoZ"
      },
      "execution_count": 25,
      "outputs": []
    },
    {
      "cell_type": "markdown",
      "source": [
        "**For Linear SVM**"
      ],
      "metadata": {
        "id": "uZMjyvM1Enzx"
      }
    },
    {
      "cell_type": "code",
      "source": [
        "# assigning the dataset for train test split for classifying review score\n",
        "X_lsvc = tfidf.fit_transform(df_cleaned['text'])\n",
        "y_lsvc = df_cleaned['review_score']"
      ],
      "metadata": {
        "id": "6esw_TVVWCqn"
      },
      "execution_count": 26,
      "outputs": []
    },
    {
      "cell_type": "code",
      "source": [
        "# checking the shape of vectorized dataset\n",
        "X_lsvc.shape, y_lsvc.shape"
      ],
      "metadata": {
        "colab": {
          "base_uri": "https://localhost:8080/"
        },
        "id": "ektqoXNQZ3Z9",
        "outputId": "c890bdaa-847d-46b1-f822-e86ff85da06c"
      },
      "execution_count": 27,
      "outputs": [
        {
          "output_type": "execute_result",
          "data": {
            "text/plain": [
              "((22206, 29254), (22206,))"
            ]
          },
          "metadata": {},
          "execution_count": 27
        }
      ]
    },
    {
      "cell_type": "code",
      "source": [
        "# train test split\n",
        "X_lsvc_train, X_lsvc_test, y_lsvc_train, y_lsvc_test = train_test_split(X_lsvc, y_lsvc, test_size = 0.2, random_state = 0)"
      ],
      "metadata": {
        "id": "EAOo2NypaAw8"
      },
      "execution_count": 28,
      "outputs": []
    },
    {
      "cell_type": "code",
      "source": [
        "# checking the shape of training dataset\n",
        "X_lsvc_train.shape"
      ],
      "metadata": {
        "colab": {
          "base_uri": "https://localhost:8080/"
        },
        "id": "tOg1Z0qRaW3i",
        "outputId": "e393cb19-0ef8-4adf-9ee3-6938d19ae820"
      },
      "execution_count": 29,
      "outputs": [
        {
          "output_type": "execute_result",
          "data": {
            "text/plain": [
              "(17764, 29254)"
            ]
          },
          "metadata": {},
          "execution_count": 29
        }
      ]
    },
    {
      "cell_type": "markdown",
      "source": [
        "**For Multinomial Naive Bayes**\n",
        "\n",
        "Multinomial Naive Bayes model is used for predicting the product category. To do so, product category, 'musical instrument' is taken as '0' and video games is taken as '1'.\n",
        "\n",
        "*   Converting musical instument and video games categories as 0 and 1 respectively to make prediction easy\n",
        "*   Train test split for predicting product category"
      ],
      "metadata": {
        "id": "GMO7jCXWFuov"
      }
    },
    {
      "cell_type": "code",
      "source": [
        "# representing product category in new column with numberical values\n",
        "df_cleaned[\"product_category_lebel\"] = pd.Series(df_cleaned[\"product_category\"].apply(lambda cat : 1 if str(cat) == 'video_games' else 0))"
      ],
      "metadata": {
        "id": "e0KarOQ1Gy1j"
      },
      "execution_count": 30,
      "outputs": []
    },
    {
      "cell_type": "code",
      "source": [
        "# assigning the dataset for train test split for classifying review score\n",
        "X_nb = tfidf.fit_transform(df_cleaned['text'])\n",
        "y_nb = df_cleaned['product_category_lebel']\n",
        "\n",
        "# train test split\n",
        "X_nb_train, X_nb_test, y_nb_train, y_nb_test = train_test_split(X_nb, y_nb, test_size = 0.2, shuffle=True, random_state=None)"
      ],
      "metadata": {
        "id": "DYQKkRfHG3lq"
      },
      "execution_count": 31,
      "outputs": []
    },
    {
      "cell_type": "code",
      "source": [
        "# checking the shape of training dataset\n",
        "X_nb_train.shape"
      ],
      "metadata": {
        "colab": {
          "base_uri": "https://localhost:8080/"
        },
        "id": "pa70GOjLHGzi",
        "outputId": "728a5abf-9784-4662-ae51-d30714d75b47"
      },
      "execution_count": 32,
      "outputs": [
        {
          "output_type": "execute_result",
          "data": {
            "text/plain": [
              "(17764, 29254)"
            ]
          },
          "metadata": {},
          "execution_count": 32
        }
      ]
    },
    {
      "cell_type": "markdown",
      "source": [
        "# **Modelling**"
      ],
      "metadata": {
        "id": "FS_1AhbBDpOz"
      }
    },
    {
      "cell_type": "markdown",
      "source": [
        "## **Model 1: Linear SVM**"
      ],
      "metadata": {
        "id": "1VK68ZcWDzVb"
      }
    },
    {
      "cell_type": "code",
      "source": [
        "from sklearn.svm import LinearSVC \n",
        "from sklearn.utils import class_weight\n",
        "\n",
        "lsvc = LinearSVC(C = 10, class_weight = 'balanced')\n",
        "lsvc.fit(X_lsvc_train, y_lsvc_train)"
      ],
      "metadata": {
        "colab": {
          "base_uri": "https://localhost:8080/"
        },
        "id": "ndKxToaKaZSS",
        "outputId": "ecc5ce6e-24de-4c94-e7a1-e7d91507d711"
      },
      "execution_count": 33,
      "outputs": [
        {
          "output_type": "stream",
          "name": "stderr",
          "text": [
            "/usr/local/lib/python3.7/dist-packages/sklearn/svm/_base.py:1208: ConvergenceWarning: Liblinear failed to converge, increase the number of iterations.\n",
            "  ConvergenceWarning,\n"
          ]
        },
        {
          "output_type": "execute_result",
          "data": {
            "text/plain": [
              "LinearSVC(C=10, class_weight='balanced')"
            ]
          },
          "metadata": {},
          "execution_count": 33
        }
      ]
    },
    {
      "cell_type": "markdown",
      "source": [
        "## **Multinomial Naive Bayes**"
      ],
      "metadata": {
        "id": "yPIo_iGZNws8"
      }
    },
    {
      "cell_type": "code",
      "source": [
        "from sklearn import naive_bayes\n",
        "\n",
        "nb = naive_bayes.MultinomialNB()\n",
        "nb.fit(X_nb_train, y_nb_train)"
      ],
      "metadata": {
        "id": "PaZmE6YDN26S",
        "colab": {
          "base_uri": "https://localhost:8080/"
        },
        "outputId": "37d6ccee-4532-46d0-e68d-dedc682e7f3d"
      },
      "execution_count": 34,
      "outputs": [
        {
          "output_type": "execute_result",
          "data": {
            "text/plain": [
              "MultinomialNB()"
            ]
          },
          "metadata": {},
          "execution_count": 34
        }
      ]
    },
    {
      "cell_type": "markdown",
      "source": [
        "# **Model Evaluation**"
      ],
      "metadata": {
        "id": "xyrpgq8jH4Aw"
      }
    },
    {
      "cell_type": "markdown",
      "source": [
        "## **Linear SVM**"
      ],
      "metadata": {
        "id": "VAJu_-NdH90-"
      }
    },
    {
      "cell_type": "markdown",
      "source": [
        "**Classification Report**"
      ],
      "metadata": {
        "id": "XicSnwWr1_5Q"
      }
    },
    {
      "cell_type": "code",
      "source": [
        "from sklearn.metrics import classification_report\n",
        "\n",
        "y_lsvc_predicted = lsvc.predict(X_lsvc_test)\n",
        "print(classification_report(y_lsvc_test, y_lsvc_predicted))"
      ],
      "metadata": {
        "colab": {
          "base_uri": "https://localhost:8080/"
        },
        "id": "oto6btBkH8f2",
        "outputId": "4a53b96d-ee00-4b6d-9641-ea79c8b3b2cb"
      },
      "execution_count": 35,
      "outputs": [
        {
          "output_type": "stream",
          "name": "stdout",
          "text": [
            "              precision    recall  f1-score   support\n",
            "\n",
            "         1.0       0.48      0.42      0.45       216\n",
            "         2.0       0.20      0.18      0.19       182\n",
            "         3.0       0.24      0.25      0.25       386\n",
            "         4.0       0.32      0.34      0.33       782\n",
            "         5.0       0.79      0.78      0.79      2876\n",
            "\n",
            "    accuracy                           0.62      4442\n",
            "   macro avg       0.41      0.39      0.40      4442\n",
            "weighted avg       0.62      0.62      0.62      4442\n",
            "\n"
          ]
        }
      ]
    },
    {
      "cell_type": "markdown",
      "source": [
        "**Confusion Matrix**"
      ],
      "metadata": {
        "id": "h6PVzoJQ2NWg"
      }
    },
    {
      "cell_type": "code",
      "source": [
        "from sklearn.metrics import confusion_matrix\n",
        "# confusion matrix for test data prediction\n",
        "confusion_matrix(y_lsvc_test, y_lsvc_predicted)"
      ],
      "metadata": {
        "colab": {
          "base_uri": "https://localhost:8080/"
        },
        "id": "QuNS9cov2OZe",
        "outputId": "00f4e82f-b3f1-4084-a507-0836f501a2f4"
      },
      "execution_count": 36,
      "outputs": [
        {
          "output_type": "execute_result",
          "data": {
            "text/plain": [
              "array([[  91,   34,   23,   28,   40],\n",
              "       [  25,   32,   49,   19,   57],\n",
              "       [  21,   35,   97,  104,  129],\n",
              "       [  21,   13,  101,  266,  381],\n",
              "       [  33,   43,  135,  409, 2256]])"
            ]
          },
          "metadata": {},
          "execution_count": 36
        }
      ]
    },
    {
      "cell_type": "markdown",
      "source": [
        "## **Multinomial Naive Bayes**"
      ],
      "metadata": {
        "id": "nicZeSgRIBe2"
      }
    },
    {
      "cell_type": "markdown",
      "source": [
        "**Accuracy Score**"
      ],
      "metadata": {
        "id": "Em0iHk_f2Eqn"
      }
    },
    {
      "cell_type": "code",
      "source": [
        "from sklearn.metrics import accuracy_score\n",
        "\n",
        "y_nb_predicted = nb.predict(X_nb_test)\n",
        "print(accuracy_score(y_nb_test, y_nb_predicted))"
      ],
      "metadata": {
        "colab": {
          "base_uri": "https://localhost:8080/"
        },
        "id": "mm1-QXXQIJNt",
        "outputId": "a4b34853-588b-409c-a685-38b24e4a3d2d"
      },
      "execution_count": 37,
      "outputs": [
        {
          "output_type": "stream",
          "name": "stdout",
          "text": [
            "0.9108509680324178\n"
          ]
        }
      ]
    },
    {
      "cell_type": "markdown",
      "source": [
        "**Classification Report**"
      ],
      "metadata": {
        "id": "1VGQMjhz2GA3"
      }
    },
    {
      "cell_type": "code",
      "source": [
        "print(classification_report(y_nb_test, y_nb_predicted))"
      ],
      "metadata": {
        "colab": {
          "base_uri": "https://localhost:8080/"
        },
        "id": "miK32_352FEn",
        "outputId": "83b0e774-6035-4ffc-b4d7-87128ddb6ff2"
      },
      "execution_count": 38,
      "outputs": [
        {
          "output_type": "stream",
          "name": "stdout",
          "text": [
            "              precision    recall  f1-score   support\n",
            "\n",
            "           0       0.96      0.82      0.88      1786\n",
            "           1       0.89      0.97      0.93      2656\n",
            "\n",
            "    accuracy                           0.91      4442\n",
            "   macro avg       0.92      0.90      0.90      4442\n",
            "weighted avg       0.91      0.91      0.91      4442\n",
            "\n"
          ]
        }
      ]
    },
    {
      "cell_type": "markdown",
      "source": [
        "**Confusion Matrix**"
      ],
      "metadata": {
        "id": "CPzKh-lZ2Tqu"
      }
    },
    {
      "cell_type": "code",
      "source": [
        "# confusion matrix for test data prediction\n",
        "confusion_matrix(y_nb_test, y_nb_predicted)"
      ],
      "metadata": {
        "colab": {
          "base_uri": "https://localhost:8080/"
        },
        "id": "DrDjXOxA2UoZ",
        "outputId": "41a6e7f2-9b6b-44ff-827d-e164ce4a2a87"
      },
      "execution_count": 39,
      "outputs": [
        {
          "output_type": "execute_result",
          "data": {
            "text/plain": [
              "array([[1458,  328],\n",
              "       [  68, 2588]])"
            ]
          },
          "metadata": {},
          "execution_count": 39
        }
      ]
    },
    {
      "cell_type": "markdown",
      "source": [
        "## **Interchanging model to classify target values**"
      ],
      "metadata": {
        "id": "R4kgVqvuGMEx"
      }
    },
    {
      "cell_type": "markdown",
      "source": [
        "**Classifying review score by Multinomial Naive Bayes**"
      ],
      "metadata": {
        "id": "VXdTV_18GozY"
      }
    },
    {
      "cell_type": "code",
      "source": [
        "# fitting review score data in naive bayes\n",
        "alt_nb = naive_bayes.MultinomialNB()\n",
        "alt_nb_review_score = alt_nb.fit(X_lsvc_train, y_lsvc_train)\n",
        "\n",
        "review_score_nb_predicted = alt_nb_review_score.predict(X_lsvc_test)\n",
        "\n",
        "# accuracy of review score prediction by multinomial naive bayes\n",
        "print(\"Accuracy on review score by Naive Bayes: \")\n",
        "np.mean(review_score_nb_predicted == y_lsvc_test)"
      ],
      "metadata": {
        "colab": {
          "base_uri": "https://localhost:8080/"
        },
        "id": "pWlcZyJ-GloJ",
        "outputId": "f49cd143-1002-4b96-c1a7-d55858cc0a91"
      },
      "execution_count": 40,
      "outputs": [
        {
          "output_type": "stream",
          "name": "stdout",
          "text": [
            "Accuracy on review score by Naive Bayes: \n"
          ]
        },
        {
          "output_type": "execute_result",
          "data": {
            "text/plain": [
              "0.6470058532192706"
            ]
          },
          "metadata": {},
          "execution_count": 40
        }
      ]
    },
    {
      "cell_type": "code",
      "source": [
        "print(\"Accuracy on review score by Linear SVM: \")\n",
        "np.mean(y_lsvc_predicted == y_lsvc_test)"
      ],
      "metadata": {
        "colab": {
          "base_uri": "https://localhost:8080/"
        },
        "id": "hJhsUIk-KjZ8",
        "outputId": "4d6a95e9-23aa-41f5-9be1-4ef7ce698c42"
      },
      "execution_count": 41,
      "outputs": [
        {
          "output_type": "stream",
          "name": "stdout",
          "text": [
            "Accuracy on review score by Linear SVM: \n"
          ]
        },
        {
          "output_type": "execute_result",
          "data": {
            "text/plain": [
              "0.6172895092300765"
            ]
          },
          "metadata": {},
          "execution_count": 41
        }
      ]
    },
    {
      "cell_type": "markdown",
      "source": [
        "**Classifying product category by Linear SVM**"
      ],
      "metadata": {
        "id": "lXP7Guk9GyBY"
      }
    },
    {
      "cell_type": "code",
      "source": [
        "# fitting product category data in linear svm\n",
        "alt_lsvc = LinearSVC(C = 10, class_weight = 'balanced')\n",
        "alt_lsvc_product_category = alt_lsvc.fit(X_nb_train, y_nb_train)\n",
        "\n",
        "product_category_lsvc_predicted = alt_lsvc_product_category.predict(X_nb_test)\n",
        "\n",
        "# accuracy of product category prediction by linear svm\n",
        "print(\"Accuracy on product category by Linear SVM: \")\n",
        "np.mean(product_category_lsvc_predicted == y_nb_test)"
      ],
      "metadata": {
        "colab": {
          "base_uri": "https://localhost:8080/"
        },
        "id": "eJ9-if-vG8iH",
        "outputId": "1d4d4ef0-7059-468a-fc7f-0d9ac4ff8815"
      },
      "execution_count": 42,
      "outputs": [
        {
          "output_type": "stream",
          "name": "stdout",
          "text": [
            "Accuracy on product category by Linear SVM: \n"
          ]
        },
        {
          "output_type": "execute_result",
          "data": {
            "text/plain": [
              "0.904997748761819"
            ]
          },
          "metadata": {},
          "execution_count": 42
        }
      ]
    },
    {
      "cell_type": "code",
      "source": [
        "print(\"Accuracy on review score by Multinomial NB: \")\n",
        "np.mean(y_nb_predicted == y_nb_test)"
      ],
      "metadata": {
        "colab": {
          "base_uri": "https://localhost:8080/"
        },
        "id": "w_q5z9lFKxxc",
        "outputId": "edf1421d-68a5-4472-d2a6-6f52c0f246d6"
      },
      "execution_count": 43,
      "outputs": [
        {
          "output_type": "stream",
          "name": "stdout",
          "text": [
            "Accuracy on review score by Multinomial NB: \n"
          ]
        },
        {
          "output_type": "execute_result",
          "data": {
            "text/plain": [
              "0.9108509680324178"
            ]
          },
          "metadata": {},
          "execution_count": 43
        }
      ]
    },
    {
      "cell_type": "markdown",
      "source": [
        "# **Model Prediction Testing** "
      ],
      "metadata": {
        "id": "4oCMDd_nIr3W"
      }
    },
    {
      "cell_type": "markdown",
      "source": [
        "## **Linear SVM**\n",
        "\n",
        "Testing the live sample data copied from the amazon website for predicting the star rating. Section below shows the Original star rating in amazon website and that predicted by the model."
      ],
      "metadata": {
        "id": "lNKTqqJ9I1Zk"
      }
    },
    {
      "cell_type": "code",
      "source": [
        "sample_data_lsvc = pd.Series([\"You can barely hear the sound! And the headphone jack barely works, you can only faintly hear yourself! Honestly if you want a mic, i don’t think this mic is worth the money\",\n",
        "                \"Perfect rig for those looking to start sim racing, it has transformed our racing since it’s been set up! A really great experience at a good price. It is really easy to adjust everything on the seat and pedals and it was also easier to assemble than expected. Would definitely recommend\",\n",
        "                \"I was one of the first people in the UK to get hold of the very original PS1, so that makes me old I know. However my memory isn't that bad, I loaded and tried to play Tekken 3 and Ridge Racer 4 and a few others. They did load, albeit having to wait for them to load. But the frame rate, blurry pixels (no not quite my eyesight yet) no up-scaling, borders on the edge no fancy rendering made my heart sink. This is terrible. GTA has truly awful emulation. I know things have moved on, but the emulation was horrible. I was not expecting HD remasters of every single game, but a lot of them had issues with sound and frame rates and general unresponsiveness. Never have I been so disappointed. Maybe I should have waited for these reviews, I definitely would not have bought it. I do NOT recommend this item however tempting it sounds. Honestly you are better off sourcing the originals and getting a PS3 or a PS2 that can play PS1 games. On paper a brilliant concept, in practice dreadful implementation. EDIT: Why on earth didn't I just buy a PS One, it's only about 5cm wider and longer than this and can be found for about £20 with a power adaptor but no games. EDIT2: Paid £90 when it came out and it is already down to £50 in the New Year Sales. EDIT3: Has powered itself off twice now. I suggest saving every hour or so. Concerned now with the long term quality of this item. Fed up with it now and decided to open it up, the large passive heat-sink sits on the main CPU/GPU I imagine that it powered off due to overheating. Heading for the dustbin!!\",\n",
        "                \"I can’t understand people complaining about 20 games, their favourite not being on here, no dualshock or not being able to change discs. (It’s almost smaller than a disc). If they refer to the disc changer button, that does work on games (that had multiple discs) when you are up to the part in tha game where a disc change is needed.... FF7 etc. I read about this on the Sony website before I bought it. Also it seems people may have forgotten that this is an old console and their phones are more powerful. So the games are a little scruffy in parts and frames dropped on the original. The graphics aren’t amazing. They weren’t in 1995. I don’t like 100% of the games. So I don’t play them. I do love some of the games and these run well, look good, play well and I’m happy I bought it. Like the nes and snes. Some games aren’t ones you will like. You can’t add or take any away (unless it’s hacked). Like those “consoles”, it’s an emulator. It’s not an actual console. It’s a piece of nostalgia. (Memberberries) And for that it does a good job. Any company making one would be accused of Ripping off Nintendo. Research before you buy. I bought it when it was just a few games revealed and knew their were no dualshocks. It’s not perfect. But it’s fun to play the old games with old style controllers. (Update) I’ve had a few comments on this review so I thought I’d respond. Their comments are all correct and I thank them for posting. Analysis has shown this does not perform as well as the original. In some cases 3 FPS are dropped, in other case 10 FPS (from 60-50). In some cases the sounds is off and the visuals blurred. Though I must say without sarcasm. When I play it. I don’t play it with FAPS counting the frames per second. I don’t play it side by side with the original to make comparison. I do play it for the games and I still enjoy it. (Personal opinion). Statistics are good and correct. But I didn’t buy it for stats. The SNES mini also drops frames , sounds are off and has some colour changes to the original. Also facts by analysis by better people than I. But I must admit not as noticeable as the PS classic. My point being it’s not perfect, especially if compared statistically and side by side. It could have been better and would have been nice if it was a perfect recreation. I just play mine. And I enjoy it.\",\n",
        "                \"I wanted to love it. All of the beautiful design touches from the original PlayStation are there and it looks fantastic. But fire it up and it's really quite bad. The games run passably well, but there are random unexpected graphical and audio hitches that make the overall experience unpleasant. Example, Final Fantasy VII seems to struggle from the start. Then, as the action on screen heats up, the graphics turn muddy, the controls get laggy and the audio stretches out weirdly. The first combat sequence hammers home the fact that the PlayStation Classic is not the best place to be playing this game. On a slightly more positive note the PlayStation Classic features save states. Which is a good thing. You can hit the Reset button at any point and the console will dump a save state for you to pick up exactly where you left off the next time you load the game. But there's only one save state per game. Which isn't a good thing. Multiple saved games are an option but menu navigation and the original PlayStation save mechanics mean that you'll be wasting a whole bunch of time when compared to save states. I'm not sure I dare even mention the game selection. I'll leave it at this: the included games make me feel like I'm playing PlayStation round at someone else's house and they don't have any of the 'cool games'. The controllers look the part but having become so used to playing video games using analogue sticks returning to movement using the D-Pad feels super awkward. There are already lead extenders available for the PlayStation Classic but I found that the Amazon basics USB extender cable does the job just fine. The box includes two leads. One is a good quality HDMI cable. The other is a fairly short Micro USB power cable. I found I was able to power the PlayStation Classic via my TV's USB socket, which was fortunate because Sony decided against including a dedicated mains USB plug. For the hefty price tag the PlayStation Classic is a let down on multiple fronts. It's a beautiful piece of plastic but that's not enough to justify the £90 price tag.\",\n",
        "                \"A lot of people moaned about the games and speed of this console. In my opinion the games that came pre-installed were actually quite good and contained a good selection of my favourite games. The emulation was also good and most of the complaints were that they used PAL games not NTSC since NTSC has a faster frame rate. But since I am in the UK the games look and play exactly as I remember them. But if that wasn't enough for you then plug in a USB stick and run BleemSync on it. Now you can change the emulator settings to render everything in higher resolution and add as many games as you like to the console. The mods are getting better by the day! It can also run all other emulator cores (N64, SNES, NES, Medgadrive etc). For £49.99 (Current Price at time of review) this really is a great piece of it!.\"])\n",
        "\n",
        "td_vec = tfidf.transform(sample_data_lsvc)\n",
        "predicted_lsvc = lsvc.predict(td_vec)\n",
        "alt_predicted_nb = alt_nb_review_score.predict(td_vec)\n",
        "\n",
        "print(\"Original star rating sequence: \")\n",
        "print(\"3\")\n",
        "print(\"5\")\n",
        "print(\"1\")\n",
        "print(\"4\")\n",
        "print(\"2\")\n",
        "print(\"5\")\n",
        "\n",
        "print(\"\")\n",
        "print(\"-x-x-x-x-x-x-x-x-x-x-x-x-x-x-x-x-x-x-x-x-x-\")\n",
        "\n",
        "\n",
        "print(\"Predicted star rating sequence: \")\n",
        "\n",
        "print(\"By Linear SVM: \")\n",
        "for a in predicted_lsvc:\n",
        "  print(a)\n",
        "\n",
        "print(\"\")\n",
        "print(\"-x-x-x-x-x-x-x-x-x-x-x-x-x-x-x-x-x-x-x-x-x-\")\n",
        "print(\"By Multinomial Naive Bayes: \")\n",
        "for a in alt_predicted_nb:\n",
        "  print(a)"
      ],
      "metadata": {
        "colab": {
          "base_uri": "https://localhost:8080/"
        },
        "id": "90-cHLAsI0mk",
        "outputId": "efc8436b-75f6-497d-cde3-4a8a6834e742"
      },
      "execution_count": 44,
      "outputs": [
        {
          "output_type": "stream",
          "name": "stdout",
          "text": [
            "Original star rating sequence: \n",
            "3\n",
            "5\n",
            "1\n",
            "4\n",
            "2\n",
            "5\n",
            "\n",
            "-x-x-x-x-x-x-x-x-x-x-x-x-x-x-x-x-x-x-x-x-x-\n",
            "Predicted star rating sequence: \n",
            "By Linear SVM: \n",
            "3.0\n",
            "5.0\n",
            "3.0\n",
            "4.0\n",
            "3.0\n",
            "4.0\n",
            "\n",
            "-x-x-x-x-x-x-x-x-x-x-x-x-x-x-x-x-x-x-x-x-x-\n",
            "By Multinomial Naive Bayes: \n",
            "5.0\n",
            "5.0\n",
            "5.0\n",
            "5.0\n",
            "5.0\n",
            "5.0\n"
          ]
        }
      ]
    },
    {
      "cell_type": "markdown",
      "source": [
        "## **Multinomial Naive Bayes**\n",
        "\n",
        "Testing the live sample data copied from the amazon website for predicting the product category. Section below shows the Original product category in amazon website and that predicted by the model."
      ],
      "metadata": {
        "id": "Ko-AOAU7I5T7"
      }
    },
    {
      "cell_type": "code",
      "source": [
        "sample_data_nb = pd.Series([\"Bought this as my 5yr old son took an interest in my guitar playing and wanted one of his own. Overall finish and build quality is quite bad, the neck is also very thick for a child's guitar. However, with some effort it can hold its tune with only a little fret buzz, so I guess for the price it is acceptable. While it is an economical way to introduce your kid/grandkid to guitar (my son has already learn a could of simple songs), if they are really serious I would suggest you save your money and take them in to a local guitar shop to get a proper new/secondhand instrument. One of the main issues of concern, in terms of build quality, is that there appears to be some separation between the bridge and the main body. We will be monitoring this over time to see if it progresses, as complaints from many of the other reviewers say this is where string tension caused the guitar to break.\", \n",
        "               \"I got this to teach my daughter to play. I actually got this to gauge her willingness as I didn’t want to get a more expensive one if it was another one of her whims. It was as it turns out, but this guitar was pretty awful. It’s reminiscent of a classical guitar but lacks the finish of anything good - but then at this price that’s not really a criticism. My chief issue was the tuning and intonation were dreadful and it has a horrible fretboard. I had the misfortune of having to restring it (my daughter is left handed) and it was a frustrating and messy experience at best. Though again, at this price... I guess it’s a good price to see if a spark of interest is there before you get a proper guitar. But to learn with full time. Nah.\", \n",
        "               \"Bought this for my little 5 year old grandson’s birthday. It arrived promptly, was well packaged with a spare set of nylon strings, so far so good. When I tuned it up and tried to play it, found it impossible. The strings at the first fret were so high it was unplayable. I examined the Nut and found it was misaligned to the fret board and was also higher at one side than the other. Rather than returning it I decided to fix it myself. I removed the Nut, cut a more level channel in the headstock, shaved the nut by a millimetre or two and refitted. Now much better, strings are where they should be and it is lovely to play. If there is a quality control department at the factory they should be sacked and replaced, But for £20 it is good value and hopefully I was just unlucky with this example.\",\n",
        "               \"I'm going to state this plain and simple. This product is potentially hazardous. When this guitar was tuned to standard tuning the bridge catapulted from the body at considerable force. It narrowly missed my face and could have caused serious injury. I dread to think what would have happened if I was a small child holding this thing. Please if you are considering this for your child's first guitar then don't, just don't. It's like this:- a small crossbow generates about 100lbs of force and a standard tuned guitar about 75 to 85 lbs of force. Do the maths! On closer inspection the bridge was attached with two screws that were drilled into a soft and thin bit of wood. This product is an accident waiting to happen.\",\n",
        "               \"If I didn’t know any different I would suspect this to be a fake. The adaptive trigger effects are weak at best, vibration is poor and the controller speaker crackled and is now at a constant barely audible level. It looks and feels genuine but having all these issues makes me think it’s either a poor batch of controllers or is a fake. Have ordered a replacement and will update this review accordingly with that.\",\n",
        "               \"Recommendation: buy the PS4 version and play that on the PS5. It's the same game but cheaper, and even then wait for the price to come down. Review. This isn't as good as the original. I'm about 10 hours in. I've got past the must do activities and now I'm in the Forbidden West proper. And somehow I don't really care. The graphics are probably better than on the PS4 but not in any meaningful way. There's more detail and more leaves, dust and bugs in the air but nothing that adds to the game play. The cut scenes - of which there are many and they are often long - are beautiful but so what? I don't buy games to watch very high quality mini-films. The game play feels clunky and a bit awkward. Compared to AC Valhalla it feels very dated. The hand-to-hand combat in particular feels weird. During one must-win-to-progress fight the 'champion' eventually just stood still while I beat him up! And it's buggy. I've been stuck in the undergrowth twice. Machines have been able to put their heads through 'solid' objects. I don't remember any of these problems with the original - which I played through twice. Finally there's no build in the 'plot', it just doesn't pull you in to the game. And one final thing ... when are we going to get a true PS5 game, not just a PS4 game with updated graphics? Yes the PS5 is bigger, faster and so on, but at the moment it just feels like a supped-up PS4. Overall I would recommend waiting for the price to drop - a lot. Definitely not worth £70 or anything close. xxxx Update: lost 10 levels due to a save fail. Really weird because it took me back a couple of days, not to the last session, and not to the last quick save. Known bug? I've stopped playing the game.\",\n",
        "               \"The game should be here right now, hell should've arrived yesterday. Wont pre order from amazon ever again. Rather just buy digital next time. Everyone is playing right now but ofc i have to wait. Its nearly 2 pm, order isnt on its way yet. Im lucky if i get it by the evening. What the hell man..\",\n",
        "               \"So far I am finding this game to be incredible, I'm about 10 hours in and can already tell that I will sink well over 100 hours into this game, maybe nearer to 150, and that'll likely be on just1 play-through. It looks incredible, the scenery is captivating, colours are powerful and vibrant, the atmosphere is so alive and the environment just really pulls you into a beautiful rendition of a post-apocalyptic, over-grown world. The story leads on immediately from Zero Dawn in a great way, and I am looking forward to seeing what the story will uncover next! There looks to be an abundance of side-quests and other missions/tasks, as well as customisations and options for multiple styles of play! Definitely worth a pickup for any RPG fan, but especially for fans of the first game! There's no point reviewing Amazon's delivery service, the high winds in the South of the UK meant that all shipments for 18th Feb were delayed, so I did received this game on the 19th, despite the tracking not working. For obvious reasons, I will forgive Amazon completely for this as they have no control over the weather, and I am very grateful I managed to receive the game on the following day despite there still being fairly high winds all weekend.\"])\n",
        "\n",
        "predict_sample_data_nb = tfidf.transform(sample_data_nb)\n",
        "predicted_nb = nb.predict(predict_sample_data_nb)\n",
        "alt_predicted_lsvc = alt_lsvc_product_category.predict(predict_sample_data_nb)\n",
        "\n",
        "print(\"Original product category sequence: \")\n",
        "print(\"\")\n",
        "print(\"Musical Instrument\")\n",
        "print(\"Musical Instrument\")\n",
        "print(\"Musical Instrument\")\n",
        "print(\"Musical Instrument\")\n",
        "print(\"Video Games\")\n",
        "print(\"Video Games\")\n",
        "print(\"Video Games\")\n",
        "print(\"Video Games\")\n",
        "\n",
        "print(\"\")\n",
        "print(\"-x-x-x-x-x-x-x-x-x-x-x-x-x-x-x-x-x-x-x-x-x-\")\n",
        "print(\"\")\n",
        "\n",
        "print(\"Predicted product category sequence by Linear SVM: \")\n",
        "\n",
        "for a in alt_predicted_lsvc:\n",
        "  if a == 0:\n",
        "    print(\"'Musical Intrument'\")\n",
        "  else:\n",
        "    print(\"'Video Games'\")\n",
        "\n",
        "print(\"\")\n",
        "print(\"-x-x-x-x-x-x-x-x-x-x-x-x-x-x-x-x-x-x-x-x-x-\")\n",
        "print(\"\")\n",
        "print(\"Predicted product category sequence by Multinomial NB: \")\n",
        "for a in predicted_nb:\n",
        "  if a == 0:\n",
        "    print(\"Musical Instrument\")\n",
        "  else:\n",
        "    print(\"Video Games\")"
      ],
      "metadata": {
        "colab": {
          "base_uri": "https://localhost:8080/"
        },
        "id": "-CN7ojmuJGKz",
        "outputId": "45d3e00a-9571-4881-e3c1-8f7acc8c7877"
      },
      "execution_count": 45,
      "outputs": [
        {
          "output_type": "stream",
          "name": "stdout",
          "text": [
            "Original product category sequence: \n",
            "\n",
            "Musical Instrument\n",
            "Musical Instrument\n",
            "Musical Instrument\n",
            "Musical Instrument\n",
            "Video Games\n",
            "Video Games\n",
            "Video Games\n",
            "Video Games\n",
            "\n",
            "-x-x-x-x-x-x-x-x-x-x-x-x-x-x-x-x-x-x-x-x-x-\n",
            "\n",
            "Predicted product category sequence by Linear SVM: \n",
            "'Musical Intrument'\n",
            "'Musical Intrument'\n",
            "'Musical Intrument'\n",
            "'Musical Intrument'\n",
            "'Musical Intrument'\n",
            "'Video Games'\n",
            "'Video Games'\n",
            "'Video Games'\n",
            "\n",
            "-x-x-x-x-x-x-x-x-x-x-x-x-x-x-x-x-x-x-x-x-x-\n",
            "\n",
            "Predicted product category sequence by Multinomial NB: \n",
            "Video Games\n",
            "Video Games\n",
            "Musical Instrument\n",
            "Musical Instrument\n",
            "Video Games\n",
            "Video Games\n",
            "Video Games\n",
            "Video Games\n"
          ]
        }
      ]
    },
    {
      "cell_type": "code",
      "source": [
        ""
      ],
      "metadata": {
        "id": "mj9WYQODMmxA"
      },
      "execution_count": 45,
      "outputs": []
    }
  ]
}